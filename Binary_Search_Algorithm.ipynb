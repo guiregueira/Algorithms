{
 "cells": [
  {
   "cell_type": "markdown",
   "id": "09a70f1c",
   "metadata": {},
   "source": [
    "# Binary Search"
   ]
  },
  {
   "cell_type": "markdown",
   "id": "3657d947",
   "metadata": {},
   "source": [
    "Binary search is a way to find what is the index of a number in a list, in python is equivalent to list.index(value). A default binary search is a typically log problem, because the number of steps is finded dividing the lenght of the sequence by 2 until the n reaches the value 1"
   ]
  },
  {
   "cell_type": "code",
   "execution_count": 11,
   "id": "0b2d5bd7",
   "metadata": {},
   "outputs": [],
   "source": [
    "# a binary search assumes a sorted list\n",
    "def binary_search(lista,point):\n",
    "    start=0\n",
    "    end=len(lista)-1\n",
    "    while start<=end:\n",
    "        half_position=start + (end-start)//2\n",
    "        half_value=lista[half_position]\n",
    "        if half_value==point:\n",
    "            return half_position\n",
    "        elif point<half_value:\n",
    "            end=half_position-1\n",
    "        elif point>half_value:\n",
    "            start=half_position+1\n",
    "    return None"
   ]
  },
  {
   "cell_type": "markdown",
   "id": "7e31b603",
   "metadata": {},
   "source": [
    "Set a example sequence"
   ]
  },
  {
   "cell_type": "code",
   "execution_count": 12,
   "id": "b58feb79",
   "metadata": {},
   "outputs": [],
   "source": [
    "sequence=[2,4,5,6,7,8]\n",
    "item=7"
   ]
  },
  {
   "cell_type": "markdown",
   "id": "053f838f",
   "metadata": {},
   "source": [
    "Using the algorithm"
   ]
  },
  {
   "cell_type": "code",
   "execution_count": 13,
   "id": "dfd02570",
   "metadata": {},
   "outputs": [
    {
     "data": {
      "text/plain": [
       "4"
      ]
     },
     "execution_count": 13,
     "metadata": {},
     "output_type": "execute_result"
    }
   ],
   "source": [
    "binary_search(sequence,item)"
   ]
  },
  {
   "cell_type": "markdown",
   "id": "0d849f35",
   "metadata": {},
   "source": [
    "4 is the position in the list that the number 7 is, remember that the first element in a python list is zero!"
   ]
  }
 ],
 "metadata": {
  "kernelspec": {
   "display_name": "Python 3 (ipykernel)",
   "language": "python",
   "name": "python3"
  },
  "language_info": {
   "codemirror_mode": {
    "name": "ipython",
    "version": 3
   },
   "file_extension": ".py",
   "mimetype": "text/x-python",
   "name": "python",
   "nbconvert_exporter": "python",
   "pygments_lexer": "ipython3",
   "version": "3.9.7"
  }
 },
 "nbformat": 4,
 "nbformat_minor": 5
}
